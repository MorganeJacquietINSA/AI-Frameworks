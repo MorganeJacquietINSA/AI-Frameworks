{
 "cells": [
  {
   "cell_type": "markdown",
   "metadata": {},
   "source": [
    "<a href=\"https://colab.research.google.com/github/wikistat/AI-Frameworks/blob/master/IntroductionDeepReinforcementLearning/Deep_Q_Learning_GridWorld.ipynb\" target=\"_parent\"><img src=\"https://colab.research.google.com/assets/colab-badge.svg\" alt=\"Open In Colab\"/></a>"
   ]
  },
  {
   "cell_type": "markdown",
   "metadata": {},
   "source": [
    "# [IA Frameworks](https://github.com/wikistat/AI-Frameworks) - Introduction to Deep Reinforcement Learning "
   ]
  },
  {
   "cell_type": "markdown",
   "metadata": {},
   "source": [
    "<center>\n",
    "<a href=\"http://www.insa-toulouse.fr/\" ><img src=\"http://www.math.univ-toulouse.fr/~besse/Wikistat/Images/logo-insa.jpg\" style=\"float:left; max-width: 120px; display: inline\" alt=\"INSA\"/></a> \n",
    "<a href=\"http://wikistat.fr/\" ><img src=\"http://www.math.univ-toulouse.fr/~besse/Wikistat/Images/wikistat.jpg\" width=400, style=\"max-width: 150px; display: inline\"  alt=\"Wikistat\"/></a>\n",
    "<a href=\"http://www.math.univ-toulouse.fr/\" ><img src=\"http://www.math.univ-toulouse.fr/~besse/Wikistat/Images/logo_imt.jpg\" width=400,  style=\"float:right;  display: inline\" alt=\"IMT\"/> </a>\n",
    "    \n",
    "</center>"
   ]
  },
  {
   "cell_type": "markdown",
   "metadata": {},
   "source": [
    "# Part 1c : Deep Q-Network on Gridworld\n",
    "The objectives of this noteboks are the following : \n",
    "\n",
    "* Implement DQN With replay memory and Target network to solve gridworld (a pacman-like game).\n",
    "* [OPTIONAL] Implement D3QN on the same game.\n",
    "* [OPTIONAL] Implement those algorithm to solve real pacman game.\n"
   ]
  },
  {
   "cell_type": "markdown",
   "metadata": {},
   "source": [
    "# Files & Data (Google Colab)\n",
    "\n",
    "If you're running this notebook on Google colab, you do not have access to the `solutions` folder you get by cloning the repository locally. \n",
    "\n",
    "The following lines will allow you to build the folders and the files you need for this TP.\n",
    "\n",
    "**WARNING 1** Do not run this line localy.\n",
    "**WARNING 2** The magic command `%load` does not work work on google colab, you will have to copy-paste the solution on the notebook."
   ]
  },
  {
   "cell_type": "code",
   "execution_count": null,
   "metadata": {},
   "outputs": [],
   "source": [
    "! mkdir solution\n",
    "! wget -P solution https://github.com/wikistat/AI-Frameworks/raw/master/IntroductionDeepReinforcementLearning/solutions/Qnetwork_class.py\n",
    "! wget -P solution https://github.com/wikistat/AI-Frameworks/raw/master/IntroductionDeepReinforcementLearning/solutions/DQN_gridworld_class.py\n",
    "! wget -P solution https://github.com/wikistat/AI-Frameworks/raw/master/IntroductionDeepReinforcementLearning/solutions/play_game_with_mainq.py\n",
    "! wget -P solution https://github.com/wikistat/AI-Frameworks/raw/master/IntroductionDeepReinforcementLearning/solutions/dueling.py\n",
    "! wget -P solution https://github.com/wikistat/AI-Frameworks/raw/master/IntroductionDeepReinforcementLearning/solutions/double_dqn.py\n",
    "! wget -P . https://github.com/wikistat/AI-Frameworks/raw/master/IntroductionDeepReinforcementLearning/gridworld.py\n",
    "! wget -P . https://github.com/wikistat/AI-Frameworks/raw/master/IntroductionDeepReinforcementLearning/experience_replay.py   "
   ]
  },
  {
   "cell_type": "markdown",
   "metadata": {},
   "source": [
    "# Import librairies"
   ]
  },
  {
   "cell_type": "code",
   "execution_count": null,
   "metadata": {},
   "outputs": [],
   "source": [
    "import numpy as np\n",
    "from datetime import datetime\n",
    "import collections\n",
    "\n",
    "# Tensorflow\n",
    "import tensorflow.keras.models as km\n",
    "import tensorflow.keras.layers as kl\n",
    "import tensorflow.keras.backend as K\n",
    "\n",
    "# To plot figures and animations\n",
    "import matplotlib.animation as animation\n",
    "import matplotlib.pyplot as plt\n",
    "from IPython.display import HTML"
   ]
  },
  {
   "cell_type": "markdown",
   "metadata": {},
   "source": [
    "The following functions enable to build a video from a list of images. <br>\n",
    "They will be used to build video of the game you will played."
   ]
  },
  {
   "cell_type": "code",
   "execution_count": null,
   "metadata": {},
   "outputs": [],
   "source": [
    "def update_scene(num, frames, patch):\n",
    "    patch.set_data(frames[num])\n",
    "    return patch,\n",
    "\n",
    "def plot_animation(frames, repeat=False, interval=400):\n",
    "    plt.close()  # or else nbagg sometimes plots in the previous cell\n",
    "    fig = plt.figure()\n",
    "    patch = plt.imshow(frames[0])\n",
    "    plt.axis('off')\n",
    "    return animation.FuncAnimation(fig, update_scene, fargs=(frames, patch), frames=len(frames), repeat=repeat, interval=interval)"
   ]
  },
  {
   "cell_type": "markdown",
   "metadata": {},
   "source": [
    "# Grid World environment\n",
    "\n",
    "The GridWorld environment will be used all along this notebook. <br>\n",
    "This environment has been developed by Arthur Juliani and original code can be found on his [github](https://github.com/awjuliani/DeepRL-Agents/blob/master/gridworld.py).\n",
    "\n",
    "We have a 5x5 blocs where blue, green and red squares. In the environment:\n",
    "\n",
    "* the **agent** controls a *blue* square\n",
    "* the goal is to navigate to the *green* squares (**reward** +1) \n",
    "* and avoiding the *red* squares (**reward** -1).\n",
    "\n",
    "This game can be seen as a simplify pacman game. The *blue* square is the pacman, the *green* square are the pellets and give positive rewards and the *red* square are the ghost and give negative rewards.<br>\n",
    "*Green* and *red* square do not move.\n",
    "\n",
    "\n",
    "### Observation\n",
    "\n",
    "The observation is the image itself which is a 84x84x3 images.\n",
    "\n",
    "### Actions\n",
    "\n",
    "Num | Action\n",
    "--- | ---\n",
    "0 | Go Up\n",
    "1 | Go Down\n",
    "2 | Go Left\n",
    "3 | Go Right\n",
    "\n",
    "\n",
    "### Reward\n",
    "Reward is 1 for every green square taken and -1 when a red square is taken\n",
    "\n",
    "### End epsiode\n",
    "There are no condition limit for an episode to finish"
   ]
  },
  {
   "cell_type": "markdown",
   "metadata": {},
   "source": [
    "The following code initiate an environment and display the first state."
   ]
  },
  {
   "cell_type": "code",
   "execution_count": null,
   "metadata": {},
   "outputs": [],
   "source": [
    "from gridworld import gameEnv\n",
    "env = gameEnv(partial=False, size=5)"
   ]
  },
  {
   "cell_type": "markdown",
   "metadata": {},
   "source": [
    "**Exercise** Let's play a game manually to understand how it works. <br>\n",
    "Fill the `actions_list` with steps to move the blue square in order to catch green square and win points\n",
    "\n",
    "The last line of code `HTML(plot_animation(frames).to_html5_video())` enable to display the video of the game from the list of state produced during the game."
   ]
  },
  {
   "cell_type": "code",
   "execution_count": null,
   "metadata": {},
   "outputs": [],
   "source": [
    "frames = []\n",
    "cum_reward=0\n",
    "actions_list=[]\n",
    "for step in actions_list:\n",
    "    state, reward , end = env.step(step)\n",
    "    frames.append(state)\n",
    "    cum_reward+=reward\n",
    "print(cum_reward)\n",
    "HTML(plot_animation(frames).to_html5_video())"
   ]
  },
  {
   "cell_type": "markdown",
   "metadata": {},
   "source": [
    "# DEEP Q Learning on *Gridworld*\n",
    "\n",
    "The objective of this section is to implement a **Deep Q-learning** tha will be able to play (correctly) gridworld environment.\n",
    "\n",
    "For that 3 python class will be required:\n",
    "\n",
    "* `ExperienceReplay`: A class that implement the **Experience Replay Buffer**. (Already implemented)\n",
    "* `Qnetwork`: A class that will enable to use a function that approximate the Q-values\n",
    "* `DQN`: A class that will enable to train the Qnetowrk\n",
    "\n",
    "\n",
    "All the instructions of this section are in this notebook belows. \n",
    "\n",
    "However you will have the possibility to \n",
    "* work with the scripts DQN_gridworld.py and DQN_gridworld_test.py that can be found in the `IntroductionDeepReinforcementLearning`folder\n",
    "* work with the codes in cells of this notebok. \n"
   ]
  },
  {
   "cell_type": "markdown",
   "metadata": {},
   "source": [
    "## Experience Replay Buffer\n",
    "\n",
    "\n",
    "The **Experience Replay Buffer** is where all the agent's experience will be stored and where *batch* will be generate from in order to train the *Q network*  \n",
    "\n",
    "you can either use the `ExperienceReplay`class solution or use the one you define in the previous notebook."
   ]
  },
  {
   "cell_type": "code",
   "execution_count": null,
   "metadata": {},
   "outputs": [],
   "source": [
    "from experience_replay import ExperienceReplay"
   ]
  },
  {
   "cell_type": "markdown",
   "metadata": {},
   "source": [
    "## Q network\n",
    "\n",
    "As in the previous notebook we will use **Deep Q-learning**  to generate the approximation of the *Q-value* rather than remembering the solutions of all (s,a) couple.\n",
    "\n",
    "As the input of the function (the observations) is the *state* itself, (an image) , we will use a **convolutional neural network** model to approximate the Q values.\n",
    "\n",
    "Later, we will generate targets from exeperiences and train this CNN.\n",
    "\n",
    "The `Qnetwork` class below defines the architecture of this *convolutional neural network*.\n",
    "\n",
    "**Exercise** \n",
    "\n",
    "The architecture of the *cnn* as been set for you, as it can requires various iterations to defined it and can takes some times. <br>\n",
    "It is compose of 4 convolutional layers and two dens layer. <br>\n",
    "\n",
    "However, the shape of the input as well as the number of neurons and the activation function  of the last layer are not filled.<br>\n",
    "Fill the gap so that this network can be use to approximate *Q-values*"
   ]
  },
  {
   "cell_type": "code",
   "execution_count": null,
   "metadata": {},
   "outputs": [],
   "source": [
    "class Qnetwork:\n",
    "    def __init__(self):\n",
    "        self.inputs = kl.Input(shape=??, name=\"main_input\")\n",
    "\n",
    "        self.model = kl.Conv2D(\n",
    "            filters=32,\n",
    "            kernel_size=[8, 8],\n",
    "            strides=[4, 4],\n",
    "            activation=\"relu\",\n",
    "            padding=\"valid\",\n",
    "            name=\"conv1\")(self.inputs)\n",
    "        self.model = kl.Conv2D(\n",
    "            filters=64,\n",
    "            kernel_size=[4, 4],\n",
    "            strides=[2, 2],\n",
    "            activation=\"relu\",\n",
    "            padding=\"valid\",\n",
    "            name=\"conv2\")(self.model)\n",
    "        self.model = kl.Conv2D(\n",
    "            filters=64,\n",
    "            kernel_size=[3, 3],\n",
    "            strides=[1, 1],\n",
    "            activation=\"relu\",\n",
    "            padding=\"valid\",\n",
    "            name=\"conv3\")(self.model)\n",
    "        self.model = kl.Conv2D(\n",
    "            filters=512,\n",
    "            kernel_size=[7, 7],\n",
    "            strides=[1, 1],\n",
    "            activation=\"relu\",\n",
    "            padding=\"valid\",\n",
    "            name=\"conv4\")(self.model)\n",
    "\n",
    "        self.model = kl.Flatten()(self.model)\n",
    "        self.model = kl.Dense(256, activation=\"relu\")(self.model)\n",
    "        self.model = kl.Dense(??, activation=??)(self.model)\n",
    "        self.model = km.Model(self.inputs, self.model)\n",
    "        self.model.compile(\"adam\", \"mse\")\n",
    "        self.model.optimizer.lr = 0.0001"
   ]
  },
  {
   "cell_type": "code",
   "execution_count": null,
   "metadata": {},
   "outputs": [],
   "source": [
    "# %load solutions/Qnetwork_class.py"
   ]
  },
  {
   "cell_type": "markdown",
   "metadata": {},
   "source": [
    "Init a model in order to display it's summary."
   ]
  },
  {
   "cell_type": "code",
   "execution_count": null,
   "metadata": {},
   "outputs": [],
   "source": [
    "main_qn = Qnetwork()\n",
    "main_qn.model.summary()"
   ]
  },
  {
   "cell_type": "markdown",
   "metadata": {},
   "source": [
    "### DQN Class\n",
    "\n",
    "**WARNING** : The structure of this exercise is really similar to the one with cartpole. However, the pseudo code is not the same. <br>\n",
    "More episode will be played randomly before starting to train the model.<br>\n",
    "Training will be applied every X episod and we will applied it on several batch <br>\n",
    "And of course we will use A target network to generate the targets<br>\n",
    "Hence, read this instruction carefully. \n",
    "\n",
    "The `DQN` class contains the implementation of the **Deep Q-Learning** algorithm. The code is incomplete and you will have to fill it!. \n",
    "\n",
    "**GENERAL INSTRUCTION**:\n",
    "\n",
    "* Read the init of the `DQN` class. \n",
    "    * Various variable are set with their definition, make sure you understand all of its.\n",
    "    * The *game environment*, the *experience replay buffer* and both *main Q-network* and *target Q-network* are initialised.\n",
    "* Read the `train` method. It contains the main code corresponding to the **pseudo code** below. YOU DO NOT HAVE TO MODIFY IT! But make sure you understand it.\n",
    "* The `train` method use methods that are not implemented. \n",
    "    * You will have to complete the code of 4 functions. (read instruction of each exercise below)\n",
    "    * After the cell of the `DQN` class code below there are **test cells** for each of these exercices. <br>\n",
    "    This cell should be executed after each exercice. This cell will check that the function you implemented take input and output in the desired format. <br> DO NOT MODIFY this cell. They will work if you're code is good <br> **Warning** The test celle does not guarantee that your code is correct. It just test than input and output are in the good format.\n",
    "\n",
    "\n",
    "#### Pseudo code \n",
    "Set both *main Q-network* and *target Q-network* equals and initiate *prob_random*\n",
    "While you didn't reach the expected *goal* reward or the *max_num_episode* allow to be played:\n",
    "* Play a complete episode (**Exercise 2 & 3**)\n",
    "* Store this episode in the buffer.\n",
    "* If you have played more than *min_pre_train_episode* randomly:\n",
    "    * Decrease the probability to play random\n",
    "    * Every *train_frequency* episode:\n",
    "        * Train *num_epochs* over a batch of targets (**Exercice 4**)\n",
    "        * Update weight of the *target Q-network*  so that their equals to the *main Q-network* (**Exercise 1**)\n",
    "\n",
    "    \n",
    "**Exercise 1**:  Implement `update_target_graph`<br>\n",
    "&nbsp;&nbsp;&nbsp;&nbsp;This function update the weight of `target_qn` with those of `main_qn`.<br>\n",
    "&nbsp;&nbsp;&nbsp;&nbsp;**Tips** Use `set_weights`and `get_weights`method of [keras api](https://keras.io/api/layers/)\n",
    "    \n",
    "**Exercise 2**:  Implement `choose_action`<br>\n",
    "&nbsp;&nbsp;&nbsp;&nbsp; This method chooses an action in *eploration* or *eploitation* mod according to the following rules:<br>\n",
    "&nbsp;&nbsp;&nbsp;&nbsp; -> if less than `min_pre_train_episodes`has been played, choose action randomly<br>\n",
    "&nbsp;&nbsp;&nbsp;&nbsp; -> else play randomly with probability `prob_random` else exploit the model.\n",
    "\n",
    "\n",
    "**Exercise 3**:  Implement `run_one_episode` <br>\n",
    "&nbsp;&nbsp;&nbsp;&nbsp; This method:<br>\n",
    "&nbsp;&nbsp;&nbsp;&nbsp; -> initiate a new environment<br>\n",
    "&nbsp;&nbsp;&nbsp;&nbsp; -> play a game until it's done OR until `max_num_step` is reached.<br>\n",
    "&nbsp;&nbsp;&nbsp;&nbsp; -> all the experiences  are stored and return.\n",
    "\n",
    "**Exercise 4**:  Implement `generate_target_q`<br>\n",
    "This method is used within the `train_one_step` method (which is already implemented).This method:<br>\n",
    "&nbsp;&nbsp;&nbsp;&nbsp; -> Generate a batch of data for training using the `experience_replay` <br>\n",
    "&nbsp;&nbsp;&nbsp;&nbsp; -> Generate the targets from this batch using `generate_target_q` <br>\n",
    "&nbsp;&nbsp;&nbsp;&nbsp; -> Train the model using these targets. <br>\n",
    "<br> \n",
    "The `generate_target_q` is not implemented so you have to do it!<br>\n",
    "You have to generate targets according to the formula below <br>\n",
    "\n",
    " \n",
    "    \n",
    "#### Separated Target network\n",
    "Here is how the target is supposed to be computed in order to train or Deep-Q network.\n",
    "\n",
    "$$target = R(s,a,s')+\\gamma \\max\\limits_{a'}Q_k(s',a';\\theta) $$\n",
    "\n",
    "\n",
    "We build a deep network to learn the values of Q but its target values are changing as we know things better. As shown below, the target values for Q depends on Q itself, we are chasing a non-stationary target. So we use a different network to generate the target, that will be updated from time to time\n",
    "\n",
    "\n",
    "$$target = R(s,a,s')+\\gamma \\max\\limits_{a'}Q_k(s',a';\\theta_{target}) $$\n",
    "\n",
    "# TODO give tips for train_gameover"
   ]
  },
  {
   "cell_type": "code",
   "execution_count": null,
   "metadata": {},
   "outputs": [],
   "source": [
    "class DQN:\n",
    "    def __init__(self):\n",
    "        self.batch_size = 64  # How many experiences to use for each training step\n",
    "        self.train_frequency = 5  # How often you update the network\n",
    "        self.num_epochs = 20  # How many epochs to train when updating the network\n",
    "        self.y = 0.99  # Discount factor\n",
    "        self.prob_random_start = 0.6  # Starting chance of random action\n",
    "        self.prob_random_end = 0.1  # Ending chance of random action\n",
    "        self.annealing_steps = 1000.  # Steps of training to reduce from start_e -> end_e\n",
    "        self.max_num_episodes = 10000  # Max number of episodes you are allowes to played to train the game\n",
    "        self.min_pre_train_episodes = 100  # Number of episodes played with random actions before to start training.\n",
    "        self.max_num_step = 50  # Maximum allowed episode length\n",
    "        self.goal = 15 # Number of rewards we want to achieve while playing a game.\n",
    "\n",
    "        # Set env\n",
    "        self.env = gameEnv(partial=False, size=5)\n",
    "\n",
    "        # Reset everything from keras session\n",
    "        K.clear_session()\n",
    "\n",
    "        # Setup our Q-networks\n",
    "        self.main_qn = Qnetwork()\n",
    "        self.target_qn = Qnetwork()\n",
    "\n",
    "        # Setup our experience replay\n",
    "        self.experience_replay = ExperienceReplay()\n",
    "\n",
    "    def update_target_graph(self):\n",
    "        # TODO\n",
    "        return\n",
    "\n",
    "    def choose_action(self, state, prob_random, num_episode):\n",
    "        # TODO\n",
    "        return action\n",
    "\n",
    "    def run_one_episode(self, num_episode, prob_random):\n",
    "        # TODO\n",
    "        return experiences_episode\n",
    "\n",
    "    def generate_target_q(self, train_state, train_action, train_reward, train_next_state, train_done):\n",
    "        # TODO\n",
    "        return target_q\n",
    "\n",
    "    def train_one_step(self):\n",
    "        # Train batch is [[state,action,reward,next_state,done],...]\n",
    "        train_batch = self.experience_replay.sample(self.batch_size)\n",
    "\n",
    "        # Separate the batch into numpy array for each compents\n",
    "        train_state = np.array([x[0] for x in train_batch])\n",
    "        train_action = np.array([x[1] for x in train_batch])\n",
    "        train_reward = np.array([x[2] for x in train_batch])\n",
    "        train_next_state = np.array([x[3] for x in train_batch])\n",
    "        train_done = np.array([x[4] for x in train_batch])\n",
    "\n",
    "        # Generate target Q\n",
    "        target_q = self.generate_target_q(\n",
    "            train_state=train_state,\n",
    "            train_action=train_action,\n",
    "            train_reward=train_reward,\n",
    "            train_next_state=train_next_state,\n",
    "            train_done=train_done\n",
    "        )\n",
    "\n",
    "        # Train the main model\n",
    "        loss = self.main_qn.model.train_on_batch(train_state, target_q)\n",
    "        return loss\n",
    "\n",
    "    def train(self):\n",
    "\n",
    "        # Make the networks equal\n",
    "        self.update_target_graph()\n",
    "\n",
    "        # We'll begin by acting complete randomly. As we gain experience and improve,\n",
    "        # we will begin reducing the probability of acting randomly, and instead\n",
    "        # take the actions that our Q network suggests\n",
    "        prob_random = self.prob_random_start\n",
    "        prob_random_drop = (self.prob_random_start - self.prob_random_end) / self.annealing_steps\n",
    "\n",
    "        # Init variable\n",
    "        num_steps = []  # Tracks number of steps per episode\n",
    "        rewards = []  # Tracks rewards per episode\n",
    "        print_every = 50  # How often to print status\n",
    "        losses = [0]  # Tracking training losses\n",
    "        num_episode = 0\n",
    "\n",
    "        while True:\n",
    "            # Run one episode\n",
    "            experiences_episode = self.run_one_episode(num_episode, prob_random)\n",
    "\n",
    "            # Save the episode in the replay buffer\n",
    "            self.experience_replay.add(experiences_episode)\n",
    "\n",
    "            # If we have play enoug episode. Start the training\n",
    "            if num_episode > self.min_pre_train_episodes:\n",
    "\n",
    "                # Drop the probability of a random action if wi didn't reach the prob_random_end value\n",
    "                if prob_random > self.prob_random_end:\n",
    "                    prob_random -= prob_random_drop\n",
    "\n",
    "                # Every train_frequency iteration, train the model\n",
    "                if num_episode % self.train_frequency == 0:\n",
    "                    for num_epoch in range(self.num_epochs):\n",
    "                        loss = self.train_one_step()\n",
    "                        losses.append(loss)\n",
    "\n",
    "                    # Update the target model with values from the main model\n",
    "                    self.update_target_graph()\n",
    "\n",
    "            # Increment the episode\n",
    "            num_episode += 1\n",
    "            num_steps.append(len(experiences_episode))\n",
    "            rewards.append(sum([e[2] for e in experiences_episode]))\n",
    "\n",
    "            # Print Info\n",
    "            if num_episode % print_every == 0:\n",
    "                # datetime object containing current date and time\n",
    "                now = datetime.now()\n",
    "                dt_string = now.strftime(\"%d/%m/%Y %H:%M:%S\")\n",
    "                mean_loss = np.mean(losses[-(print_every * self.num_epochs):])\n",
    "                print(\"{} - Num episode: {} Mean reward: {:0.4f} Prob random: {:0.4f}, Loss: {:0.04f}\".format(\n",
    "                    dt_string, num_episode, np.mean(rewards[-print_every:]), prob_random, mean_loss))\n",
    "\n",
    "            # Stop Condition\n",
    "            if np.mean(rewards[-print_every:]) >= self.goal:\n",
    "                now = datetime.now()\n",
    "                dt_string = now.strftime(\"%d/%m/%Y %H:%M:%S\")\n",
    "                mean_loss = np.mean(losses[-(print_every * self.num_epochs):])\n",
    "                print(\"{} - Num episode: {} Mean reward: {:0.4f} Prob random: {:0.4f}, Loss: {:0.04f}\".format(\n",
    "                    dt_string, num_episode, np.mean(rewards[-print_every:]), prob_random, mean_loss))\n",
    "                print(\"Training complete because we reached goal rewards.\")\n",
    "                break\n",
    "            if num_episode > self.max_num_episodes:\n",
    "                print(\"Training Stop because we reached max num of episodes\")\n",
    "                break"
   ]
  },
  {
   "cell_type": "markdown",
   "metadata": {},
   "source": [
    "**Test `update_target_graph`**\n",
    "\n",
    "This test ensure that\n",
    "* all layers weights of both *main Q-network* and *target Q-network* are **different** at initialisation\n",
    "* all layers weights of both *main Q-network* and *target Q-network* are **equal** after executing `update_target_graph`method"
   ]
  },
  {
   "cell_type": "code",
   "execution_count": null,
   "metadata": {},
   "outputs": [],
   "source": [
    "# Test 1 Update weight copy weight\n",
    "dqn = DQN()\n",
    "for target_layer_weight, main_layer_weight in zip(dqn.target_qn.model.get_weights(), dqn.main_qn.model.get_weights()):\n",
    "    if len(target_layer_weight.shape)>1:\n",
    "        assert not(np.all(target_layer_weight == main_layer_weight))\n",
    "\n",
    "dqn.update_target_graph()\n",
    "for target_layer_weight, main_layer_weight in zip(dqn.target_qn.model.get_weights(), dqn.main_qn.model.get_weights()):\n",
    "    if len(target_layer_weight.shape)>1:\n",
    "        assert np.all(target_layer_weight == main_layer_weight)"
   ]
  },
  {
   "cell_type": "markdown",
   "metadata": {},
   "source": [
    "**Test `choose_action`**\n",
    "\n",
    "This test can't be considered as a real test. <br>\n",
    "Indeed, if the action are play randomly we can't expect a fixed results. \n",
    "\n",
    "However, if your function is implemented correctly these test should word most of the time:\n",
    "\n",
    "* If `num_episode`=99 (below `min_pre_train_epsiode`=100) -> play randomly even if `prob_random` = 0 \n",
    "    * Over 100 play, each action should appears various time\n",
    "* If `prob_random` = 1 -> play randomly even if  `num_episode`=101 (above `min_pre_train_epsiode`=100) \n",
    "    * Over 100 play, each action should appears various time\n",
    "* If `prob_random` = 0 and `num_episode`=101 (above `min_pre_train_epsiode`=100) -> play in exploit mode \n",
    "    * The same action is choosen all the time.\n",
    "* If `prob_random` = 0.5 and `num_episode`=101 (above `min_pre_train_epsiode`=100) -> play both exploration and exploit mode randomly. \n",
    "    * All action sould be seen, but the action choosen in exploit mode is always the same and should be choosen more likely."
   ]
  },
  {
   "cell_type": "code",
   "execution_count": null,
   "metadata": {},
   "outputs": [],
   "source": [
    "dqn = DQN()\n",
    "state = dqn.env.reset()\n",
    "# Random action if less than min_pre_train_episode has been played\n",
    "actions = [dqn.choose_action(state=state,num_episode=99, prob_random=0) for _ in range(100)]\n",
    "count_action = collections.Counter(actions)\n",
    "print(count_action)\n",
    "assert count_action[0]>15\n",
    "assert count_action[1]>15\n",
    "assert count_action[2]>15\n",
    "assert count_action[3]>15\n",
    "\n",
    "# Random action if we play more than min_pre_train_episode and prob_random is 1\n",
    "actions = [dqn.choose_action(state=state,num_episode=101, prob_random=1) for _ in range(100)]\n",
    "count_action = collections.Counter(actions)\n",
    "print(count_action)\n",
    "assert count_action[0]>15\n",
    "assert count_action[1]>15\n",
    "assert count_action[2]>15\n",
    "assert count_action[3]>15\n",
    "\n",
    "# Best action according to model if we play more than min_pre_train_episode and prob_random is 0\n",
    "actions = [dqn.choose_action(state=state,num_episode=101, prob_random=0) for _ in range(100)]\n",
    "count_action = collections.Counter(actions)\n",
    "print(count_action)\n",
    "assert(len(set(actions)))==1\n",
    "main_action = list(set(actions))[0]\n",
    "\n",
    "actions = [dqn.choose_action(state=state,num_episode=101, prob_random=0.5) for _ in range(100)]\n",
    "count_action = collections.Counter(actions)\n",
    "assert(len(set(actions)))==4\n",
    "print(count_action)\n",
    "assert sorted(count_action.items(), key=lambda x : x[1])[-1][0]==main_action"
   ]
  },
  {
   "cell_type": "markdown",
   "metadata": {},
   "source": [
    "**Test `run_one_episode`**\n",
    "\n",
    "The `run_one_episode` play a complete episode.\n",
    "\n",
    "* The method return a list of experiences. Each experience is a list that contains :\n",
    " * A *state*: an image of shape (84,84,3)\n",
    " * An *action*: an integer\n",
    " * A *reward*: a float\n",
    " * The *nex_state*: an image of shape (84,84,3)\n",
    " * A boolean that indicate if the game is over or not after this action.\n",
    "* The experiences list can't have more experience than `max_num_step`"
   ]
  },
  {
   "cell_type": "code",
   "execution_count": null,
   "metadata": {},
   "outputs": [],
   "source": [
    "dqn = DQN()\n",
    "experiences_episode = dqn.run_one_episode(num_episode=200,\n",
    "                          prob_random=1)\n",
    "\n",
    "for experience in experiences_episode:\n",
    "    state, action, reward, next_state, done = experience\n",
    "\n",
    "    assert state.shape == (84, 84, 3)\n",
    "    assert type(action) is int\n",
    "    assert type(reward) is float\n",
    "    assert next_state.shape == (84, 84, 3)\n",
    "    assert type(done) is bool\n",
    "assert len(experiences_episode)<=dqn.max_num_step"
   ]
  },
  {
   "cell_type": "markdown",
   "metadata": {},
   "source": [
    "**Test `generate_target_q`**\n",
    "\n",
    "This method generate targets of q values.\n",
    "\n",
    "In this test we set the `batch_size`value is equal to 2. Hence the function take as an input: \n",
    "* train_state : An array of size (2,83,83,4)\n",
    "* train_action : An array of size (2,1)\n",
    "* train_reward  : An array of size (2,1)\n",
    "* train_next_state : An array of size (2,83,83,4)\n",
    "* train_done : An array of size (2,1)\n",
    "\n",
    "And return as an output an Array of size (2,4), which is a target for each input of the batch.\n"
   ]
  },
  {
   "cell_type": "code",
   "execution_count": null,
   "metadata": {},
   "outputs": [],
   "source": [
    "dqn = DQN()\n",
    "dqn.batch_size=2\n",
    "state = np.expand_dims(dqn.env.reset(), axis=0)\n",
    "target_q = dqn.generate_target_q(\n",
    "    train_state = np.vstack([state,state]),\n",
    "    train_action = np.array([0,0]),\n",
    "    train_reward = np.array([1.0,2.0]),\n",
    "    train_next_state = np.vstack([state,state]),\n",
    "    train_done = np.array([1, 1])\n",
    ")\n",
    "\n",
    "assert target_q.shape == (2,4)"
   ]
  },
  {
   "cell_type": "markdown",
   "metadata": {},
   "source": [
    "Here is the solution"
   ]
  },
  {
   "cell_type": "code",
   "execution_count": null,
   "metadata": {},
   "outputs": [],
   "source": [
    "# %load solutions/DQN_gridworld_class.py"
   ]
  },
  {
   "cell_type": "markdown",
   "metadata": {},
   "source": [
    "Train the model"
   ]
  },
  {
   "cell_type": "code",
   "execution_count": null,
   "metadata": {
    "scrolled": true
   },
   "outputs": [],
   "source": [
    "dqn = DQN()\n",
    "dqn.train()"
   ]
  },
  {
   "cell_type": "markdown",
   "metadata": {},
   "source": [
    "**Exercise** Once your model learn how to play and reach the expected goal -> Play a game exploiting the main q network trained with deep q learning and display video of this game to check how it performs!"
   ]
  },
  {
   "cell_type": "code",
   "execution_count": null,
   "metadata": {},
   "outputs": [],
   "source": [
    "# %load solutions/play_game_with_mainq.py"
   ]
  },
  {
   "cell_type": "markdown",
   "metadata": {},
   "source": [
    "# [OPTIONAL] D3QN\n",
    "\n",
    "DQN has  been improved recently by using two different tricks (among others):\n",
    "\n",
    "* Dueling\n",
    "* Double DQN\n",
    "\n",
    "Implement these two solutions."
   ]
  },
  {
   "cell_type": "markdown",
   "metadata": {},
   "source": [
    "#### Dueling\n",
    "\n",
    "See the dueling architecture : \n",
    "\n",
    "\n",
    "In order to explain the reasoning behind the architecture changes that Dueling DQN makes, we need to first explain some a few additional reinforcement learning terms. The Q-values that we have been discussing so far correspond to how good it is to take a certain action given a certain state. This can be written as Q(s,a). This action given state can actually be decomposed into two more fundamental notions of value. The first is the value function V(s), which says simple how good it is to be in any given state. The second is the advantage function A(a), which tells how much better taking a certain action would be compared to the others. We can then think of Q as being the combination of V and A. More formally:\n",
    "$$Q(s,a) =V(s) + A(a)$$\n",
    "The goal of Dueling DQN is to have a network that separately computes the advantage and value functions, and combines them back into a single Q-function only at the final layer. It may seem somewhat pointless to do this at first glance. Why decompose a function that we will just put back together? The key to realizing the benefit is to appreciate that our reinforcement learning agent may not need to care about both value and advantage at any given time. For example: imagine sitting outside in a park watching the sunset. It is beautiful, and highly rewarding to be sitting there. No action needs to be taken, and it doesn’t really make sense to think of the value of sitting there as being conditioned on anything beyond the environmental state you are in. We can achieve more robust estimates of state value by decoupling it from the necessity of being attached to specific actions.\n",
    "\n",
    "**Exercise** : Update the Q-network architecture so that if fit the dueling architecture."
   ]
  },
  {
   "cell_type": "code",
   "execution_count": null,
   "metadata": {},
   "outputs": [],
   "source": [
    "# %load solutions/dueling.py"
   ]
  },
  {
   "cell_type": "code",
   "execution_count": null,
   "metadata": {},
   "outputs": [],
   "source": [
    "main_qn = Qnetwork()\n",
    "main_qn.model.summary()"
   ]
  },
  {
   "cell_type": "markdown",
   "metadata": {},
   "source": [
    "#### Double DQN\n",
    "\n",
    "\n",
    "This lead to often overestimates the Q-values of the potential actions to take in a given state. While this would be fine if all actions were always overestimates equally, there was reason to believe this wasn’t the case. You can easily imagine that if certain suboptimal actions regularly were given higher Q-values than optimal actions, the agent would have a hard time ever learning the ideal policy. In order to correct for this, the authors of DDQN paper propose a simple trick: instead of taking the max over Q-values when computing the target-Q value for our training step, we use our primary network to chose an action, and our target network to generate the target Q-value for that action. By decoupling the action choice from the target Q-value generation, we are able to substantially reduce the overestimation, and train faster and more reliably. Below is the new DDQN equation for updating the target value.\n",
    "\n",
    "\n",
    "$$target = R(s,a,s')+\\gamma Q_k(s',argmax_aQ(s',a;\\theta);\\theta_{target}) $$\n",
    "\n",
    "**Exercise** : Update the DQN class and the Update target function the target are generating with the formula abovr"
   ]
  },
  {
   "cell_type": "code",
   "execution_count": null,
   "metadata": {},
   "outputs": [],
   "source": [
    "#%load solutions/double_dqn.py"
   ]
  },
  {
   "cell_type": "code",
   "execution_count": null,
   "metadata": {},
   "outputs": [],
   "source": [
    "dqn = DQN()\n",
    "dqn.train()"
   ]
  },
  {
   "cell_type": "markdown",
   "metadata": {},
   "source": [
    "# [OPTIONAL] Deep Q Learning on Pacman!"
   ]
  },
  {
   "cell_type": "markdown",
   "metadata": {},
   "source": [
    "### Creating the MsPacman environment"
   ]
  },
  {
   "cell_type": "code",
   "execution_count": null,
   "metadata": {
    "scrolled": true
   },
   "outputs": [],
   "source": [
    "import gym\n",
    "env = gym.make(\"MsPacman-v0\")\n",
    "obs = env.reset()\n",
    "obs.shape"
   ]
  },
  {
   "cell_type": "code",
   "execution_count": null,
   "metadata": {},
   "outputs": [],
   "source": [
    "env.action_space"
   ]
  },
  {
   "cell_type": "markdown",
   "metadata": {},
   "source": [
    "### Preprocessing"
   ]
  },
  {
   "cell_type": "markdown",
   "metadata": {},
   "source": [
    "Preprocessing the images is optional but greatly speeds up training."
   ]
  },
  {
   "cell_type": "code",
   "execution_count": null,
   "metadata": {},
   "outputs": [],
   "source": [
    "mspacman_color = 210 + 164 + 74\n",
    "\n",
    "def preprocess_observation(obs):\n",
    "    img = obs[1:176:2, ::2] # crop and downsize\n",
    "    img = img.sum(axis=2) # to greyscale\n",
    "    img[img==mspacman_color] = 0 # Improve contrast\n",
    "    img = (img // 3 - 128).astype(np.int8) # normalize from -128 to 127\n",
    "    return img.reshape(88, 80, 1)/128\n",
    "\n",
    "img = preprocess_observation(obs)\n",
    "img.shape"
   ]
  },
  {
   "cell_type": "markdown",
   "metadata": {},
   "source": [
    "Note: the `preprocess_observation()` function is slightly different from the one in the book: instead of representing pixels as 64-bit floats from -1.0 to 1.0, it represents them as signed bytes (from -128 to 127). The benefit is that the replay memory will take up roughly 8 times less RAM (about 6.5 GB instead of 52 GB). The reduced precision has no visible impact on training."
   ]
  },
  {
   "cell_type": "code",
   "execution_count": null,
   "metadata": {},
   "outputs": [],
   "source": [
    "plt.figure(figsize=(11, 7))\n",
    "plt.subplot(121)\n",
    "plt.title(\"Original observation (160×210 RGB)\")\n",
    "plt.imshow(obs)\n",
    "plt.axis(\"off\")\n",
    "plt.subplot(122)\n",
    "plt.title(\"Preprocessed observation (88×80 greyscale)\")\n",
    "plt.imshow(img.reshape(88, 80), interpolation=\"nearest\", cmap=\"gray\")\n",
    "plt.axis(\"off\")\n",
    "plt.show()"
   ]
  },
  {
   "cell_type": "code",
   "execution_count": null,
   "metadata": {},
   "outputs": [],
   "source": []
  }
 ],
 "metadata": {
  "kernelspec": {
   "display_name": "Python 3",
   "language": "python",
   "name": "python3"
  },
  "language_info": {
   "codemirror_mode": {
    "name": "ipython",
    "version": 3
   },
   "file_extension": ".py",
   "mimetype": "text/x-python",
   "name": "python",
   "nbconvert_exporter": "python",
   "pygments_lexer": "ipython3",
   "version": "3.8.5"
  }
 },
 "nbformat": 4,
 "nbformat_minor": 4
}
